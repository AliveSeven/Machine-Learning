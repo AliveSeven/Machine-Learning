{
 "cells": [
  {
   "cell_type": "code",
   "execution_count": 2,
   "metadata": {},
   "outputs": [
    {
     "name": "stdout",
     "output_type": "stream",
     "text": [
      "数据集生成的数码图像规模和维度: (1797, 64)\n",
      "选取其中一个样本查看: [ 0.  0.  0. 12. 13.  5.  0.  0.  0.  0.  0. 11. 16.  9.  0.  0.  0.  0.\n",
      "  3. 15. 16.  6.  0.  0.  0.  7. 15. 16. 16.  2.  0.  0.  0.  0.  1. 16.\n",
      " 16.  3.  0.  0.  0.  0.  1. 16. 16.  6.  0.  0.  0.  0.  1. 16. 16.  6.\n",
      "  0.  0.  0.  0.  0. 11. 16. 10.  0.  0.]\n"
     ]
    }
   ],
   "source": [
    "# load_digits数据集sklearn.datasets中内置的手写数字图片数据集，这是一个研究图像分类算法的优质数据集。\n",
    "# 从sklearn.datasets中导入手写体数字加载器\n",
    "from sklearn.datasets import load_digits\n",
    "from sklearn.metrics import classification_report\n",
    "# 从通过数据加载器获得的手写体数字的数码图像数据并储存在digits中\n",
    "digits = load_digits()\n",
    "# 查看数据规模和特征维度\n",
    "print (\"数据集生成的数码图像规模和维度:\",digits.data.shape)\n",
    "# 选取其中一个样本查看\n",
    "print(\"选取其中一个样本查看:\",digits.data[1])"
   ]
  },
  {
   "cell_type": "code",
   "execution_count": 3,
   "metadata": {},
   "outputs": [
    {
     "name": "stdout",
     "output_type": "stream",
     "text": [
      "训练数据规模: (1257, 64) 测试数据的规模: (540, 64)\n"
     ]
    }
   ],
   "source": [
    "# 将训练数据进行分割\n",
    "from sklearn.model_selection import train_test_split\n",
    "# 随机选取70%的数据作为训练样本，其余30%的数据作为测试样本\n",
    "X_train,X_test,y_train,y_test = train_test_split(digits.data,digits.target,test_size=0.30,random_state=25)\n",
    "\n",
    "# 查看训练数据和测试数据的规模\n",
    "print (\"训练数据规模:\",X_train.shape,\"测试数据的规模:\",X_test.shape)\n"
   ]
  },
  {
   "cell_type": "code",
   "execution_count": 4,
   "metadata": {},
   "outputs": [
    {
     "name": "stderr",
     "output_type": "stream",
     "text": [
      "D:\\Anaconda\\envs\\gluon\\lib\\site-packages\\sklearn\\svm\\_base.py:986: ConvergenceWarning: Liblinear failed to converge, increase the number of iterations.\n",
      "  \"the number of iterations.\", ConvergenceWarning)\n"
     ]
    }
   ],
   "source": [
    "# 支持向量机算法对手写数字图像进行分类\n",
    "# 基于线性假设的SVM模型来训练数据\n",
    "from sklearn.preprocessing import StandardScaler\n",
    "from sklearn.svm import LinearSVC \n",
    "#对训练和测试的特征数据进行标准化\n",
    "ss=StandardScaler()\n",
    "X_train = ss.fit_transform(X_train)\n",
    "X_test = ss.transform(X_test)\n",
    "# 初始化线性假设的支持向量机分类器LinearSVC\n",
    "lsvc = LinearSVC()\n",
    "# 使用SVC对模型训练\n",
    "lsvc.fit(X_train,y_train)\n",
    "# 利用训练好的模型对测试样本的数字类别进行预测，预测结果储存在y_predict中。\n",
    "y_predict = lsvc.predict(X_test)"
   ]
  },
  {
   "cell_type": "code",
   "execution_count": 5,
   "metadata": {},
   "outputs": [
    {
     "name": "stdout",
     "output_type": "stream",
     "text": [
      "LinearSVC对测试样本的识别的准确度: 0.9555555555555556\n",
      "              precision    recall  f1-score   support\n",
      "\n",
      "           0       1.00      1.00      1.00        56\n",
      "           1       0.89      0.91      0.90        55\n",
      "           2       0.98      0.96      0.97        46\n",
      "           3       0.93      0.95      0.94        55\n",
      "           4       0.95      0.97      0.96        61\n",
      "           5       1.00      0.98      0.99        57\n",
      "           6       1.00      0.94      0.97        53\n",
      "           7       0.96      0.96      0.96        51\n",
      "           8       0.89      0.94      0.92        53\n",
      "           9       0.96      0.94      0.95        53\n",
      "\n",
      "    accuracy                           0.96       540\n",
      "   macro avg       0.96      0.96      0.96       540\n",
      "weighted avg       0.96      0.96      0.96       540\n",
      "\n"
     ]
    }
   ],
   "source": [
    "# 使用模型自带的评估函数进行测评\n",
    "print ('LinearSVC对测试样本的识别的准确度:',lsvc.score(X_test,y_test))\n",
    "# 依然使用sklearn.metrics里面的classification_report模块对预测结果做更加详细的分析\n",
    "print (classification_report(y_test, y_predict, target_names=digits.target_names.astype(str)))"
   ]
  },
  {
   "cell_type": "code",
   "execution_count": 11,
   "metadata": {},
   "outputs": [
    {
     "name": "stdout",
     "output_type": "stream",
     "text": [
      "SVC(kernel=‘poly’)对测试样本的识别的准确度: 0.95\n",
      "              precision    recall  f1-score   support\n",
      "\n",
      "           0       1.00      0.98      0.99        56\n",
      "           1       1.00      0.95      0.97        55\n",
      "           2       1.00      1.00      1.00        46\n",
      "           3       1.00      0.85      0.92        55\n",
      "           4       1.00      1.00      1.00        61\n",
      "           5       1.00      0.89      0.94        57\n",
      "           6       1.00      0.96      0.98        53\n",
      "           7       0.98      0.96      0.97        51\n",
      "           8       0.67      1.00      0.80        53\n",
      "           9       1.00      0.91      0.95        53\n",
      "\n",
      "    accuracy                           0.95       540\n",
      "   macro avg       0.97      0.95      0.95       540\n",
      "weighted avg       0.97      0.95      0.95       540\n",
      "\n"
     ]
    }
   ],
   "source": [
    "# 使用SVC(kernel=‘poly’),多项式核函数对测试样本进行预测\n",
    "from sklearn.svm import SVC\n",
    "poly_svc = SVC(kernel='poly')\n",
    "poly_svc.fit(X_train,y_train)\n",
    "y_poly_svc_predict = poly_svc.predict(X_test)\n",
    "#评估模型性能\n",
    "print ('SVC(kernel=‘poly’)对测试样本的识别的准确度:',poly_svc.score(X_test,y_test))\n",
    "print (classification_report(y_test,y_poly_svc_predict,target_names=digits.target_names.astype(str)))"
   ]
  }
 ],
 "metadata": {
  "interpreter": {
   "hash": "aa56780df00d39f4cf0c4838f2dc7da378078d34146d1aea5e084dcd6cf13e7c"
  },
  "kernelspec": {
   "display_name": "Python 3.6.13 ('gluon')",
   "language": "python",
   "name": "python3"
  },
  "language_info": {
   "codemirror_mode": {
    "name": "ipython",
    "version": 3
   },
   "file_extension": ".py",
   "mimetype": "text/x-python",
   "name": "python",
   "nbconvert_exporter": "python",
   "pygments_lexer": "ipython3",
   "version": "3.6.13"
  },
  "orig_nbformat": 4
 },
 "nbformat": 4,
 "nbformat_minor": 2
}
