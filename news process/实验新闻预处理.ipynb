{
 "cells": [
  {
   "cell_type": "code",
   "execution_count": 1,
   "metadata": {},
   "outputs": [
    {
     "name": "stdout",
     "output_type": "stream",
     "text": [
      "实验文本集预处理成功\n"
     ]
    }
   ],
   "source": [
    "# 预处理操作\n",
    "import re\n",
    "import html\n",
    "import os\n",
    "\n",
    "def cleanPhrass(text):\n",
    "    text=re.sub(r'<[^>]+>','',text)\n",
    "    text= html.unescape(text) \n",
    "    text=re.sub(r'[\\s<>\\&\",，！!{}【】、“”：:]','',text) \n",
    "    text=re.sub(r'[。？]','\\n',text) \n",
    "    return text\n",
    "def pretreatment(src='srcFile',dest='destFile'):\n",
    "    if not os.path.isdir(dest):\n",
    "        os.mkdir(dest)\n",
    "    srcFileList =os.listdir(src) \n",
    "    try:\n",
    "        for txtFile in srcFileList: \n",
    "   \n",
    "           with open(src+'/'+ txtFile,encoding ='GB18030',errors='ignore')as f:\n",
    "            text=f.read() \n",
    "            f.close()\n",
    "            text= cleanPhrass(text)\n",
    "            newFile = open(dest+'/'+txtFile,'w',encoding ='GB18030',errors='ignore')\n",
    "            newFile.write(text)\n",
    "            newFile.close()\n",
    "        print('实验文本集预处理成功')\n",
    "    except FileNotFoundError: \n",
    "        message = \"Sorry, the file \" + filename + \" does not exist.\" \n",
    "        print(message)\n",
    "pretreatment(r'实验新闻','新闻预处理结果/newdata')"
   ]
  }
 ],
 "metadata": {
  "interpreter": {
   "hash": "aa56780df00d39f4cf0c4838f2dc7da378078d34146d1aea5e084dcd6cf13e7c"
  },
  "kernelspec": {
   "display_name": "Python 3.6.13 ('gluon')",
   "language": "python",
   "name": "python3"
  },
  "language_info": {
   "codemirror_mode": {
    "name": "ipython",
    "version": 3
   },
   "file_extension": ".py",
   "mimetype": "text/x-python",
   "name": "python",
   "nbconvert_exporter": "python",
   "pygments_lexer": "ipython3",
   "version": "3.6.13"
  },
  "orig_nbformat": 4
 },
 "nbformat": 4,
 "nbformat_minor": 2
}
