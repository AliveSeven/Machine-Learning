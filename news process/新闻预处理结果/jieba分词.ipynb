{
 "cells": [
  {
   "cell_type": "code",
   "execution_count": 1,
   "metadata": {},
   "outputs": [
    {
     "name": "stderr",
     "output_type": "stream",
     "text": [
      "Building prefix dict from the default dictionary ...\n",
      "Loading model from cache C:\\Users\\MSI-PC\\AppData\\Local\\Temp\\jieba.cache\n",
      "Loading model cost 0.859 seconds.\n",
      "Prefix dict has been built successfully.\n"
     ]
    },
    {
     "name": "stdout",
     "output_type": "stream",
     "text": [
      "jieba分词两百个新闻成功\n"
     ]
    }
   ],
   "source": [
    "import os\n",
    "import re\n",
    "import jieba\n",
    "import jieba.posseg as pseg\n",
    "\n",
    "imm_src='newdata'\n",
    "srcFileList =os.listdir(imm_src)\n",
    "for txtFile in srcFileList: #遍历文件夹\n",
    "    with open(imm_src+'/'+ txtFile,encoding ='GB18030',errors='ignore')as f:  #打开文件\n",
    "        # text=f.read()  #读取文件\n",
    "        for line in f:\n",
    "            line = re.sub(r'[\\n]','',line) # 将line中的'\\n'去掉\n",
    "            new = jieba.cut(line,cut_all=False)  # 精准分词\n",
    "            all = ''.join(new)   # new 是generator object，将其变成字符串\n",
    "            words = pseg.cut(all)    # 词性标注\n",
    "            for word, flag in words:\n",
    "                if(word == ' '):   # 去掉空格词\n",
    "                    continue\n",
    "                else:\n",
    "                    # 输出分词的单词，词性，输出的文件夹是jieba_newdata\n",
    "                    newFile = open('jieba_newdata'+'/'+txtFile,'a',encoding ='GB18030') \n",
    "                    test = x = ''.join(word)+'   '+''.join(flag)\n",
    "                    newFile.write(test+'\\n')\n",
    "                    newFile.close()\n",
    "print('jieba分词两百个新闻成功')"
   ]
  }
 ],
 "metadata": {
  "interpreter": {
   "hash": "aa56780df00d39f4cf0c4838f2dc7da378078d34146d1aea5e084dcd6cf13e7c"
  },
  "kernelspec": {
   "display_name": "Python 3.6.13 ('gluon')",
   "language": "python",
   "name": "python3"
  },
  "language_info": {
   "codemirror_mode": {
    "name": "ipython",
    "version": 3
   },
   "file_extension": ".py",
   "mimetype": "text/x-python",
   "name": "python",
   "nbconvert_exporter": "python",
   "pygments_lexer": "ipython3",
   "version": "3.6.13"
  },
  "orig_nbformat": 4
 },
 "nbformat": 4,
 "nbformat_minor": 2
}
