{
 "cells": [
  {
   "cell_type": "code",
   "execution_count": 8,
   "metadata": {},
   "outputs": [
    {
     "name": "stdout",
     "output_type": "stream",
     "text": [
      "HanLP分词两百个新闻成功\n"
     ]
    }
   ],
   "source": [
    "import os\n",
    "import re\n",
    "from pyhanlp import * # 导入要分词用的pyhanlp库\n",
    "\n",
    "imm_src='newdata'\n",
    "srcFileList =os.listdir(imm_src)\n",
    "for txtFile in srcFileList: #遍历文件夹\n",
    "    with open(imm_src+'/'+ txtFile,encoding ='GB18030',errors='ignore')as f:  #打开文件\n",
    "        # text=f.read()  #读取文件\n",
    "        for line in f:\n",
    "            line = re.sub(r'[\\n]','',line) # 将line中的'\\n'去掉\n",
    "            # 进行HanLP中文分词\n",
    "            for term in HanLP.segment(line):\n",
    "                if(term.word == ' '): # 去掉空格词\n",
    "                    continue\n",
    "                else:\n",
    "                    newFile = open('HanLP_newdata'+'/'+txtFile,'a',encoding ='GB18030') # 输出分词的单词，词性，输出文件夹在HanLP_newdata\n",
    "                    # 输出分词的单词，词性\n",
    "                    test = ''.join(term.word) +'   '+str(term.nature)\n",
    "                    newFile.write(test+'\\n')\n",
    "                    newFile.close()\n",
    "print('HanLP分词两百个新闻成功')        \n"
   ]
  }
 ],
 "metadata": {
  "interpreter": {
   "hash": "aa56780df00d39f4cf0c4838f2dc7da378078d34146d1aea5e084dcd6cf13e7c"
  },
  "kernelspec": {
   "display_name": "Python 3.6.13 ('gluon')",
   "language": "python",
   "name": "python3"
  },
  "language_info": {
   "codemirror_mode": {
    "name": "ipython",
    "version": 3
   },
   "file_extension": ".py",
   "mimetype": "text/x-python",
   "name": "python",
   "nbconvert_exporter": "python",
   "pygments_lexer": "ipython3",
   "version": "3.6.13"
  },
  "orig_nbformat": 4
 },
 "nbformat": 4,
 "nbformat_minor": 2
}
