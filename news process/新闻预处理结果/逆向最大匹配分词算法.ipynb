{
 "cells": [
  {
   "cell_type": "code",
   "execution_count": 1,
   "metadata": {},
   "outputs": [
    {
     "name": "stdout",
     "output_type": "stream",
     "text": [
      "进行逆向最大匹配分词成功\n"
     ]
    }
   ],
   "source": [
    "#逆向最大匹配\n",
    "import os\n",
    "\n",
    "class IMM(object):\n",
    "    def __init__(self, dic_path):\n",
    "        self.dictionary = set()\n",
    "        self.maximum = 0\n",
    "        #读取词典\n",
    "        with open(dic_path, 'r', encoding='utf8') as f:\n",
    "            for line in f:\n",
    "                #移除字符串头尾指定的字符（默认为空格或换行符）或字符序列\n",
    "                line = line.split(\" \")[0]\n",
    "                if not line:\n",
    "                    continue\n",
    "                self.dictionary.add(line)\n",
    "                if len(line) > self.maximum:\n",
    "                    self.maximum = len(line)\n",
    "    def cut(self, text):\n",
    "        result = []\n",
    "        index = len(text)\n",
    "        while index > 0:\n",
    "            word = None\n",
    "            # 语法 range(start, stop[, step])\n",
    "            for size in range(self.maximum, 0, -1):\n",
    "                # 切片开始位置：index - size\n",
    "                if index - size < 0:\n",
    "                    continue\n",
    "                #逆向切片，提取当前可能存在的最长词\n",
    "                piece = text[(index - size):index]\n",
    "                #切分出一个词\n",
    "                if piece in self.dictionary:\n",
    "                    word = piece\n",
    "                    result.append(word+\"  \")\n",
    "                    #切分词后，剩下的字符串长度\n",
    "                    index -= size\n",
    "                    break\n",
    "            if word is None:\n",
    "                index -= 1\n",
    "        return result[::-1]\n",
    "    \n",
    "imm_src='newdata'\n",
    "srcFileList =os.listdir(imm_src)\n",
    "tokenizer = IMM('dict.big')\n",
    "try:\n",
    "    for txtFile in srcFileList: #遍历文件夹\n",
    "        with open(imm_src+'/'+ txtFile,encoding ='GB18030',errors='ignore')as f:  #打开文件\n",
    "            text=f.read()  #读取文件\n",
    "            f.close()\n",
    "            test=\"\".join(tokenizer.cut(text))\n",
    "            newFile = open('IMM_newdata'+'/'+txtFile,'w',encoding ='GB18030')\n",
    "            newFile.write(test)\n",
    "            newFile.close()\n",
    "    print('进行逆向最大匹配分词成功')\n",
    "except FileNotFoundError: \n",
    "    message = \"Sorry, the file \" + txtFile + \" does not exist.\" \n",
    "    print(message)"
   ]
  }
 ],
 "metadata": {
  "interpreter": {
   "hash": "aa56780df00d39f4cf0c4838f2dc7da378078d34146d1aea5e084dcd6cf13e7c"
  },
  "kernelspec": {
   "display_name": "Python 3.6.13 ('gluon')",
   "language": "python",
   "name": "python3"
  },
  "language_info": {
   "codemirror_mode": {
    "name": "ipython",
    "version": 3
   },
   "file_extension": ".py",
   "mimetype": "text/x-python",
   "name": "python",
   "nbconvert_exporter": "python",
   "pygments_lexer": "ipython3",
   "version": "3.6.13"
  },
  "orig_nbformat": 4
 },
 "nbformat": 4,
 "nbformat_minor": 2
}
