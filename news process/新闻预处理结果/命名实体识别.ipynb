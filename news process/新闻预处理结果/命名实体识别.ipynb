{
 "cells": [
  {
   "cell_type": "code",
   "execution_count": 4,
   "metadata": {},
   "outputs": [
    {
     "name": "stdout",
     "output_type": "stream",
     "text": [
      "使用jieba分词、命名实体识别两百个新闻成功\n"
     ]
    }
   ],
   "source": [
    "# nr过滤人名\n",
    "import os\n",
    "import re\n",
    "import jieba.analyse\n",
    "import jieba.posseg as pseg\n",
    "\n",
    "imm_src='newdata'\n",
    "srcFileList =os.listdir(imm_src)\n",
    "for txtFile in srcFileList: #遍历文件夹\n",
    "    with open(imm_src+'/'+ txtFile,encoding ='GB18030',errors='ignore')as f:  #打开文件\n",
    "        # text=f.read()  #读取文件\n",
    "        for line in f:\n",
    "            line = re.sub(r'[\\n]','',line) # 将line中的'\\n'去掉\n",
    "            # 第一个参数：待提取关键词的文本\n",
    "            # 第二个参数：返回关键词的数量，重要性从高到低排序\n",
    "            # 第三个参数：是否同时返回每个关键词的权重\n",
    "            # 第四个参数：词性过滤，为空表示不过滤，若提供则仅返回符合词性要求的关键词\n",
    "            kw = jieba.analyse.extract_tags(line, topK=10, withWeight=True, allowPOS=('nr')) # 过滤掉人名\n",
    "            for item in kw:\n",
    "                newFile = open('nr_newdata'+'/'+txtFile,'a',encoding ='GB18030') # 要输出的文件夹\n",
    "                # 分别为关键词和相应的权重\n",
    "                test = str(item[0]) + '  ' + str(item[1])  \n",
    "                newFile.write(test+'\\n')\n",
    "                newFile.close()\n",
    "print('使用jieba分词、命名实体识别两百个新闻成功')"
   ]
  },
  {
   "cell_type": "code",
   "execution_count": 5,
   "metadata": {},
   "outputs": [
    {
     "name": "stdout",
     "output_type": "stream",
     "text": [
      "使用jieba分词、命名实体识别两百个新闻成功\n"
     ]
    }
   ],
   "source": [
    "# ns过滤地名\n",
    "import os\n",
    "import re\n",
    "import jieba.analyse\n",
    "import jieba.posseg as pseg\n",
    "\n",
    "imm_src='newdata'\n",
    "srcFileList =os.listdir(imm_src)\n",
    "for txtFile in srcFileList: #遍历文件夹\n",
    "    with open(imm_src+'/'+ txtFile,encoding ='GB18030',errors='ignore')as f:  #打开文件\n",
    "        # text=f.read()  #读取文件\n",
    "        for line in f:\n",
    "            line = re.sub(r'[\\n]','',line) # 将line中的'\\n'去掉\n",
    "            # 第一个参数：待提取关键词的文本\n",
    "            # 第二个参数：返回关键词的数量，重要性从高到低排序\n",
    "            # 第三个参数：是否同时返回每个关键词的权重\n",
    "            # 第四个参数：词性过滤，为空表示不过滤，若提供则仅返回符合词性要求的关键词\n",
    "            kw = jieba.analyse.extract_tags(line, topK=10, withWeight=True, allowPOS=('ns')) # 过滤掉地名\n",
    "            for item in kw:\n",
    "                newFile = open('ns_newdata'+'/'+txtFile,'a',encoding ='GB18030') # 要输出的文件夹\n",
    "                # 分别为关键词和相应的权重\n",
    "                test = str(item[0]) + '  ' + str(item[1])  \n",
    "                newFile.write(test+'\\n')\n",
    "                newFile.close()\n",
    "print('使用jieba分词、命名实体识别两百个新闻成功')"
   ]
  },
  {
   "cell_type": "code",
   "execution_count": 6,
   "metadata": {},
   "outputs": [
    {
     "name": "stdout",
     "output_type": "stream",
     "text": [
      "使用jieba分词、命名实体识别两百个新闻成功\n"
     ]
    }
   ],
   "source": [
    "# nt过滤机构名\n",
    "import os\n",
    "import re\n",
    "import jieba.analyse\n",
    "import jieba.posseg as pseg\n",
    "\n",
    "imm_src='newdata'\n",
    "srcFileList =os.listdir(imm_src)\n",
    "for txtFile in srcFileList: #遍历文件夹\n",
    "    with open(imm_src+'/'+ txtFile,encoding ='GB18030',errors='ignore')as f:  #打开文件\n",
    "        # text=f.read()  #读取文件\n",
    "        for line in f:\n",
    "            line = re.sub(r'[\\n]','',line) # 将line中的'\\n'去掉\n",
    "            # 第一个参数：待提取关键词的文本\n",
    "            # 第二个参数：返回关键词的数量，重要性从高到低排序\n",
    "            # 第三个参数：是否同时返回每个关键词的权重\n",
    "            # 第四个参数：词性过滤，为空表示不过滤，若提供则仅返回符合词性要求的关键词\n",
    "            kw = jieba.analyse.extract_tags(line, topK=10, withWeight=True, allowPOS=('nt')) # 过滤掉机构名\n",
    "            for item in kw:\n",
    "                newFile = open('nt_newdata'+'/'+txtFile,'a',encoding ='GB18030') # 要输出的文件夹\n",
    "                # 分别为关键词和相应的权重\n",
    "                test = str(item[0]) + '  ' + str(item[1])  \n",
    "                newFile.write(test+'\\n')\n",
    "                newFile.close()\n",
    "print('使用jieba分词、命名实体识别两百个新闻成功')"
   ]
  }
 ],
 "metadata": {
  "interpreter": {
   "hash": "aa56780df00d39f4cf0c4838f2dc7da378078d34146d1aea5e084dcd6cf13e7c"
  },
  "kernelspec": {
   "display_name": "Python 3.6.13 ('gluon')",
   "language": "python",
   "name": "python3"
  },
  "language_info": {
   "codemirror_mode": {
    "name": "ipython",
    "version": 3
   },
   "file_extension": ".py",
   "mimetype": "text/x-python",
   "name": "python",
   "nbconvert_exporter": "python",
   "pygments_lexer": "ipython3",
   "version": "3.6.13"
  },
  "orig_nbformat": 4
 },
 "nbformat": 4,
 "nbformat_minor": 2
}
